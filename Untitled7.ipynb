{
 "cells": [
  {
   "cell_type": "code",
   "execution_count": 9,
   "id": "0dc549eb-b213-405a-b5ea-4ff944064083",
   "metadata": {},
   "outputs": [
    {
     "name": "stdout",
     "output_type": "stream",
     "text": [
      "('xyz', 'abc', 'cde')\n"
     ]
    }
   ],
   "source": [
    "x=('xyz','abc','cde');\n",
    "print(x);"
   ]
  },
  {
   "cell_type": "code",
   "execution_count": 9,
   "id": "e09fa200-2b77-4037-8ab5-91ac34e47e29",
   "metadata": {},
   "outputs": [
    {
     "name": "stdout",
     "output_type": "stream",
     "text": [
      "('xyz', 'abc', 'cde')\n"
     ]
    }
   ],
   "source": [
    "x=('xyz','abc','cde');\n",
    "print(x);"
   ]
  },
  {
   "cell_type": "code",
   "execution_count": 11,
   "id": "d4eb5985-7f85-4611-97f2-8f030fb860ca",
   "metadata": {},
   "outputs": [
    {
     "ename": "SyntaxError",
     "evalue": "cannot assign to literal (1273130860.py, line 1)",
     "output_type": "error",
     "traceback": [
      "  \u001b[36mCell\u001b[39m\u001b[36m \u001b[39m\u001b[32mIn[11]\u001b[39m\u001b[32m, line 1\u001b[39m\n\u001b[31m    \u001b[39m\u001b[31mx=(1)=2;\u001b[39m\n       ^\n\u001b[31mSyntaxError\u001b[39m\u001b[31m:\u001b[39m cannot assign to literal\n"
     ]
    }
   ],
   "source": [
    "x=(1)=2;"
   ]
  },
  {
   "cell_type": "code",
   "execution_count": null,
   "id": "01f9cd66-2743-4e57-b9b9-5532e5cbf77f",
   "metadata": {},
   "outputs": [],
   "source": [
    "a=['xyz','abc','cde'];\n",
    "print(a);"
   ]
  },
  {
   "cell_type": "code",
   "execution_count": 12,
   "id": "69673692-d38f-4d35-ba2b-599108bba844",
   "metadata": {},
   "outputs": [],
   "source": [
    "a[2]=5;"
   ]
  },
  {
   "cell_type": "code",
   "execution_count": null,
   "id": "5c6ad90e-ff7a-4dd0-8ec8-b0ce5ae08b1f",
   "metadata": {},
   "outputs": [],
   "source": []
  }
 ],
 "metadata": {
  "kernelspec": {
   "display_name": "Python 3 (ipykernel)",
   "language": "python",
   "name": "python3"
  },
  "language_info": {
   "codemirror_mode": {
    "name": "ipython",
    "version": 3
   },
   "file_extension": ".py",
   "mimetype": "text/x-python",
   "name": "python",
   "nbconvert_exporter": "python",
   "pygments_lexer": "ipython3",
   "version": "3.13.2"
  }
 },
 "nbformat": 4,
 "nbformat_minor": 5
}
