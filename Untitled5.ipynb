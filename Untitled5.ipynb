{
 "cells": [
  {
   "cell_type": "code",
   "execution_count": 1,
   "id": "3cb11c90-be17-41a3-a71f-d851c8807a85",
   "metadata": {},
   "outputs": [
    {
     "name": "stdout",
     "output_type": "stream",
     "text": [
      "1\n"
     ]
    }
   ],
   "source": [
    "x=1\n",
    "print(x)"
   ]
  },
  {
   "cell_type": "code",
   "execution_count": 2,
   "id": "645fa540-f731-4032-846b-6b4dc5a7c569",
   "metadata": {},
   "outputs": [
    {
     "name": "stdin",
     "output_type": "stream",
     "text": [
      "enter your name Tanzeela Sarwar\n"
     ]
    },
    {
     "data": {
      "text/plain": [
       "'Tanzeela Sarwar'"
      ]
     },
     "execution_count": 2,
     "metadata": {},
     "output_type": "execute_result"
    }
   ],
   "source": [
    "input(\"enter your name\")"
   ]
  },
  {
   "cell_type": "code",
   "execution_count": 3,
   "id": "7df58d44-105e-42fd-9b18-ec3ff678a653",
   "metadata": {},
   "outputs": [
    {
     "name": "stdin",
     "output_type": "stream",
     "text": [
      "enter a number 8\n"
     ]
    }
   ],
   "source": [
    "a=input(\"enter a number\")"
   ]
  },
  {
   "cell_type": "code",
   "execution_count": 6,
   "id": "c6b1cbed-bb2d-4bdd-a6c5-c97ffeb05a3b",
   "metadata": {},
   "outputs": [
    {
     "name": "stdout",
     "output_type": "stream",
     "text": [
      "hello word\n"
     ]
    }
   ],
   "source": [
    "print(\"hello word\")"
   ]
  },
  {
   "cell_type": "code",
   "execution_count": 10,
   "id": "c92dbc74-20b9-4698-b432-0cbd1306f8ec",
   "metadata": {},
   "outputs": [
    {
     "name": "stdout",
     "output_type": "stream",
     "text": [
      "12\n"
     ]
    }
   ],
   "source": [
    "a=6\n",
    "b=6\n",
    "c=a+b\n",
    "print(c)"
   ]
  },
  {
   "cell_type": "code",
   "execution_count": 11,
   "id": "8f0abcd9-1e59-4168-bfa8-0969c7bb0281",
   "metadata": {},
   "outputs": [
    {
     "name": "stdout",
     "output_type": "stream",
     "text": [
      "('d', 2, 3, 4, 5, 6)\n"
     ]
    }
   ],
   "source": [
    "array=('d',2,3,4,5,6)\n",
    "print(array)"
   ]
  },
  {
   "cell_type": "code",
   "execution_count": null,
   "id": "f58d4772-86a7-4357-a3fd-59b3ad109b96",
   "metadata": {},
   "outputs": [],
   "source": [
    "string=(Tanzeela Sarwar)\n",
    "print(string)"
   ]
  }
 ],
 "metadata": {
  "kernelspec": {
   "display_name": "Python 3 (ipykernel)",
   "language": "python",
   "name": "python3"
  },
  "language_info": {
   "codemirror_mode": {
    "name": "ipython",
    "version": 3
   },
   "file_extension": ".py",
   "mimetype": "text/x-python",
   "name": "python",
   "nbconvert_exporter": "python",
   "pygments_lexer": "ipython3",
   "version": "3.13.2"
  }
 },
 "nbformat": 4,
 "nbformat_minor": 5
}
